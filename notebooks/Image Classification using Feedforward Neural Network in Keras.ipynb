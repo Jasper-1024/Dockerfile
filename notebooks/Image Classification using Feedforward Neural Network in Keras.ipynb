{
 "cells": [
  {
   "cell_type": "markdown",
   "metadata": {},
   "source": [
    "## Introduction"
   ]
  },
  {
   "cell_type": "markdown",
   "metadata": {},
   "source": [
    "&copy; [www.learnopencv.com](https://www.learnopencv.com/image-classification-using-feedforward-neural-network-in-keras/)"
   ]
  },
  {
   "cell_type": "markdown",
   "metadata": {},
   "source": [
    "In this article, we will learn how to implement a Feedforward Neural Network in Keras. We will use handwritten digit classification as an example to illustrate the effectiveness of a feedforward network. We will also see how to spot and overcome Overfitting during training.\n",
    "\n",
    "**MNIST** is a commonly used handwritten digit dataset consisting of 60,000 images in the training set and 10,000 images in the test set. So, each digit has 6000 images in the training set. The digits are size-normalized and centered in a fixed-size ( 28×28 ) image. The task is to train a machine learning algorithm to recognize a new sample from the test set correctly."
   ]
  },
  {
   "cell_type": "markdown",
   "metadata": {},
   "source": [
    "Example of embeding video:\n",
    "\n",
    "<iframe width=\"560\" height=\"315\" src=\"https://www.youtube.com/embed/cAICT4Al5Ow?rel=0\" frameborder=\"0\" gesture=\"media\" allow=\"encrypted-media\" allowfullscreen></iframe>"
   ]
  },
  {
   "cell_type": "markdown",
   "metadata": {},
   "source": [
    "## 1. The Network"
   ]
  },
  {
   "cell_type": "markdown",
   "metadata": {},
   "source": [
    "We will use raw pixel values as input to the network. The images are matrices of size 28×28. So, we reshape the image matrix to an array of size 784 ( 28*28 ) and feed this array to the network. We will use a network with 2 hidden layers having 512 neurons each. The output layer will have 10 layers for the 10 digits. A schematic diagram is shown below.\n",
    "<img src=\"https://www.learnopencv.com/wp-content/uploads/2017/10/mlp-mnist-schematic.jpg\" alt=\"MPL MNIST Schematic\" style=\"width: 768px;\"/>"
   ]
  },
  {
   "cell_type": "markdown",
   "metadata": {},
   "source": [
    "## 2. Load the Data"
   ]
  },
  {
   "cell_type": "markdown",
   "metadata": {},
   "source": [
    "Keras comes with the MNIST data loader. It has a function mnist.load_data() which downloads the data from its servers if it is not present on your computer. The data loaded using this function is divided into training and test sets. This is done by the following:"
   ]
  },
  {
   "cell_type": "code",
   "execution_count": 6,
   "metadata": {},
   "outputs": [],
   "source": [
    "from keras.datasets import mnist\n",
    "(train_images, train_labels), (test_images, test_labels) = mnist.load_data()"
   ]
  },
  {
   "cell_type": "markdown",
   "metadata": {},
   "source": [
    "## 3. Checkout the Data"
   ]
  },
  {
   "cell_type": "markdown",
   "metadata": {},
   "source": [
    "Let’s see how the data looks like. The data consists of handwritten numbers ranging from 0 to 9, along with their ground truth. It has 60,000 train samples and 10,000 test samples. Each sample is a 28×28 grayscale image."
   ]
  },
  {
   "cell_type": "code",
   "execution_count": 11,
   "metadata": {},
   "outputs": [
    {
     "name": "stdout",
     "output_type": "stream",
     "text": [
      "Training data shape :  (60000, 28, 28) (60000,)\n",
      "Testing data shape :  (10000, 28, 28) (10000,)\n",
      "Total number of outputs :  10\n",
      "Output classes :  [0 1 2 3 4 5 6 7 8 9]\n"
     ]
    }
   ],
   "source": [
    "import numpy as np\n",
    "import matplotlib.pyplot as plt\n",
    "from keras.utils import to_categorical\n",
    " \n",
    "print('Training data shape : ', train_images.shape, train_labels.shape)\n",
    " \n",
    "print('Testing data shape : ', test_images.shape, test_labels.shape)\n",
    " \n",
    "# Find the unique numbers from the train labels\n",
    "classes = np.unique(train_labels)\n",
    "nClasses = len(classes)\n",
    "print('Total number of outputs : ', nClasses)\n",
    "print('Output classes : ', classes)"
   ]
  },
  {
   "cell_type": "code",
   "execution_count": 12,
   "metadata": {},
   "outputs": [
    {
     "data": {
      "text/plain": [
       "Text(0.5,1,'Ground Truth : 7')"
      ]
     },
     "execution_count": 12,
     "metadata": {},
     "output_type": "execute_result"
    },
    {
     "data": {
      "image/png": "[encoded data removed]",
      "text/plain": [
       "<matplotlib.figure.Figure at 0x7f643a8cf860>"
      ]
     },
     "metadata": {},
     "output_type": "display_data"
    }
   ],
   "source": [
    "plt.figure(figsize=[10,5])\n",
    " \n",
    "# Display the first image in training data\n",
    "plt.subplot(121)\n",
    "plt.imshow(train_images[0,:,:], cmap='gray')\n",
    "plt.title(\"Ground Truth : {}\".format(train_labels[0]))\n",
    " \n",
    "# Display the first image in testing data\n",
    "plt.subplot(122)\n",
    "plt.imshow(test_images[0,:,:], cmap='gray')\n",
    "plt.title(\"Ground Truth : {}\".format(test_labels[0]))"
   ]
  },
  {
   "cell_type": "markdown",
   "metadata": {},
   "source": [
    "## 4. Process the data"
   ]
  },
  {
   "cell_type": "markdown",
   "metadata": {},
   "source": [
    "The images are grayscale and the pixel values range from 0 to 255. We will apply the following preprocessing to the data before feeding it to the network."
   ]
  },
  {
   "cell_type": "markdown",
   "metadata": {},
   "source": [
    "* Convert each image matrix ( 28×28 ) to an array ( 28*28 = 784 dimenstional ) which will be fed to the network as a single feature."
   ]
  },
  {
   "cell_type": "code",
   "execution_count": 13,
   "metadata": {},
   "outputs": [],
   "source": [
    "# Change from matrix to array of dimension 28x28 to array of dimention 784\n",
    "dimData = np.prod(train_images.shape[1:])\n",
    "train_data = train_images.reshape(train_images.shape[0], dimData)\n",
    "test_data = test_images.reshape(test_images.shape[0], dimData)"
   ]
  },
  {
   "cell_type": "markdown",
   "metadata": {},
   "source": [
    "* Convert the data to float and scale the values between 0 to 1."
   ]
  },
  {
   "cell_type": "code",
   "execution_count": 14,
   "metadata": {},
   "outputs": [],
   "source": [
    "# Change to float datatype\n",
    "train_data = train_data.astype('float32')\n",
    "test_data = test_data.astype('float32')\n",
    " \n",
    "# Scale the data to lie between 0 to 1\n",
    "train_data /= 255\n",
    "test_data /= 255"
   ]
  },
  {
   "cell_type": "markdown",
   "metadata": {},
   "source": [
    "* Convert the labels from integer to categorical ( one-hot ) encoding since that is the format required by Keras to perform multiclass classification. One-hot encoding is a type of boolean representation of integer data. It converts the integer to an array of all zeros except a 1 at the index of the integer.\n",
    "\n",
    "For example, using a one-hot encoding for 10 classes, the integer 5 will be encoded as 0000010000"
   ]
  },
  {
   "cell_type": "code",
   "execution_count": 16,
   "metadata": {},
   "outputs": [
    {
     "name": "stdout",
     "output_type": "stream",
     "text": [
      "Original label 0 :  5\n",
      "After conversion to categorical ( one-hot ) :  [ 0.  0.  0.  0.  0.  1.  0.  0.  0.  0.]\n"
     ]
    }
   ],
   "source": [
    "# Change the labels from integer to categorical data\n",
    "train_labels_one_hot = to_categorical(train_labels)\n",
    "test_labels_one_hot = to_categorical(test_labels)\n",
    " \n",
    "# Display the change for category label using one-hot encoding\n",
    "print('Original label 0 : ', train_labels[0])\n",
    "print('After conversion to categorical ( one-hot ) : ', train_labels_one_hot[0])"
   ]
  },
  {
   "cell_type": "markdown",
   "metadata": {},
   "source": [
    "## 5. Keras Workflow for training the network"
   ]
  },
  {
   "cell_type": "markdown",
   "metadata": {},
   "source": [
    "The block diagram is given here for reference. Basically, once you have the training and test data, you can follow these steps to train a neural network in Keras.\n",
    "<img src=\"https://www.learnopencv.com/wp-content/uploads/2017/09/keras-workflow.jpg\" alt=\"Keras workflow\" style=\"width: 768px;\"/>"
   ]
  },
  {
   "cell_type": "markdown",
   "metadata": {},
   "source": [
    "### 5.1. Create the Network"
   ]
  },
  {
   "cell_type": "markdown",
   "metadata": {},
   "source": [
    "We had mentioned that we will be using a network with 2 hidden layers and an output layer with 10 units. The number of units in the hidden layers is kept to be 512. The input to the network is the 784-dimensional array converted from the 28×28 image.\n",
    "\n",
    "We will use the Sequential model for building the network. In the Sequential model, we can just stack up layers by adding the desired layer one by one. We use the Dense layer, also called fully connected layer since we are building a feedforward network in which all the neurons from one layer are connected to the neurons in the previous layer. Apart from the Dense layer, we add the ReLU activation function which is required to introduce non-linearity to the model. This will help the network learn non-linear decision boundaries. The last layer is a softmax layer as it is a multiclass classification problem. For binary classification, we can use sigmoid."
   ]
  },
  {
   "cell_type": "code",
   "execution_count": 17,
   "metadata": {},
   "outputs": [],
   "source": [
    "from keras.models import Sequential\n",
    "from keras.layers import Dense\n",
    " \n",
    "model = Sequential()\n",
    "model.add(Dense(512, activation='relu', input_shape=(dimData,)))\n",
    "model.add(Dense(512, activation='relu'))\n",
    "model.add(Dense(nClasses, activation='softmax'))"
   ]
  },
  {
   "cell_type": "markdown",
   "metadata": {},
   "source": [
    "### 5.2. Configure the Network"
   ]
  },
  {
   "cell_type": "markdown",
   "metadata": {},
   "source": [
    "In this step, we configure the optimizer to be rmsprop. We also specify the loss type which is categorical cross entropy which is used for multiclass classification. We also specify the metrics ( accuracy in this case ) which we want to track during the training process. You can also try using any other optimizer such as adam or SGD."
   ]
  },
  {
   "cell_type": "code",
   "execution_count": 18,
   "metadata": {},
   "outputs": [],
   "source": [
    "model.compile(optimizer='rmsprop', loss='categorical_crossentropy', metrics=['accuracy'])"
   ]
  },
  {
   "cell_type": "markdown",
   "metadata": {},
   "source": [
    "### 5.3. Train the Model"
   ]
  },
  {
   "cell_type": "markdown",
   "metadata": {},
   "source": [
    "The network is ready to get trained. This is done using the fit() function in Keras. We specify the number of epochs as 20. This means that the whole dataset will be fed to the network 20 times. We will be using the test data for validation."
   ]
  },
  {
   "cell_type": "code",
   "execution_count": 19,
   "metadata": {},
   "outputs": [
    {
     "name": "stdout",
     "output_type": "stream",
     "text": [
      "Train on 60000 samples, validate on 10000 samples\n",
      "Epoch 1/20\n",
      "60000/60000 [==============================] - 12s 205us/step - loss: 0.2664 - acc: 0.9180 - val_loss: 0.1482 - val_acc: 0.9545\n",
      "Epoch 2/20\n",
      "60000/60000 [==============================] - 15s 248us/step - loss: 0.0924 - acc: 0.9712 - val_loss: 0.1317 - val_acc: 0.9576\n",
      "Epoch 3/20\n",
      "60000/60000 [==============================] - 15s 243us/step - loss: 0.0572 - acc: 0.9815 - val_loss: 0.1049 - val_acc: 0.9667\n",
      "Epoch 4/20\n",
      "60000/60000 [==============================] - 14s 239us/step - loss: 0.0396 - acc: 0.9874 - val_loss: 0.0725 - val_acc: 0.9795\n",
      "Epoch 5/20\n",
      "60000/60000 [==============================] - 14s 227us/step - loss: 0.0291 - acc: 0.9905 - val_loss: 0.0728 - val_acc: 0.9799\n",
      "Epoch 6/20\n",
      "60000/60000 [==============================] - 14s 229us/step - loss: 0.0221 - acc: 0.9928 - val_loss: 0.0698 - val_acc: 0.9825\n",
      "Epoch 7/20\n",
      "60000/60000 [==============================] - 16s 275us/step - loss: 0.0168 - acc: 0.9945 - val_loss: 0.0844 - val_acc: 0.9800\n",
      "Epoch 8/20\n",
      "60000/60000 [==============================] - 13s 224us/step - loss: 0.0126 - acc: 0.9960 - val_loss: 0.0855 - val_acc: 0.9812\n",
      "Epoch 9/20\n",
      "60000/60000 [==============================] - 13s 220us/step - loss: 0.0130 - acc: 0.9958 - val_loss: 0.0928 - val_acc: 0.9820\n",
      "Epoch 10/20\n",
      "60000/60000 [==============================] - 13s 224us/step - loss: 0.0096 - acc: 0.9970 - val_loss: 0.0996 - val_acc: 0.9804\n",
      "Epoch 11/20\n",
      "60000/60000 [==============================] - 16s 259us/step - loss: 0.0079 - acc: 0.9975 - val_loss: 0.0861 - val_acc: 0.9834\n",
      "Epoch 12/20\n",
      "60000/60000 [==============================] - 17s 286us/step - loss: 0.0084 - acc: 0.9974 - val_loss: 0.0969 - val_acc: 0.9810\n",
      "Epoch 13/20\n",
      "60000/60000 [==============================] - 16s 262us/step - loss: 0.0069 - acc: 0.9978 - val_loss: 0.0894 - val_acc: 0.9841\n",
      "Epoch 14/20\n",
      "60000/60000 [==============================] - 15s 248us/step - loss: 0.0052 - acc: 0.9984 - val_loss: 0.1090 - val_acc: 0.9818\n",
      "Epoch 15/20\n",
      "60000/60000 [==============================] - 16s 266us/step - loss: 0.0049 - acc: 0.9986 - val_loss: 0.1158 - val_acc: 0.9810\n",
      "Epoch 16/20\n",
      "60000/60000 [==============================] - 15s 253us/step - loss: 0.0061 - acc: 0.9982 - val_loss: 0.1380 - val_acc: 0.9762\n",
      "Epoch 17/20\n",
      "60000/60000 [==============================] - 15s 256us/step - loss: 0.0038 - acc: 0.9988 - val_loss: 0.0987 - val_acc: 0.9830\n",
      "Epoch 18/20\n",
      "60000/60000 [==============================] - 17s 281us/step - loss: 0.0044 - acc: 0.9987 - val_loss: 0.1110 - val_acc: 0.9826\n",
      "Epoch 19/20\n",
      "60000/60000 [==============================] - 19s 318us/step - loss: 0.0042 - acc: 0.9988 - val_loss: 0.1284 - val_acc: 0.9828\n",
      "Epoch 20/20\n",
      "60000/60000 [==============================] - 15s 244us/step - loss: 0.0046 - acc: 0.9987 - val_loss: 0.1330 - val_acc: 0.9820\n"
     ]
    }
   ],
   "source": [
    "history = model.fit(train_data, train_labels_one_hot, batch_size=256, epochs=20, verbose=1, \n",
    "                   validation_data=(test_data, test_labels_one_hot))"
   ]
  },
  {
   "cell_type": "markdown",
   "metadata": {},
   "source": [
    "### 5.4. Evaluate the trained model"
   ]
  },
  {
   "cell_type": "markdown",
   "metadata": {},
   "source": [
    "We check the performance on the whole test data using the evaluate() method."
   ]
  },
  {
   "cell_type": "code",
   "execution_count": 20,
   "metadata": {},
   "outputs": [
    {
     "name": "stdout",
     "output_type": "stream",
     "text": [
      "10000/10000 [==============================] - 2s 201us/step\n",
      "Evaluation result on Test Data : Loss = 0.13296870547489917, accuracy = 0.982\n"
     ]
    }
   ],
   "source": [
    "[test_loss, test_acc] = model.evaluate(test_data, test_labels_one_hot)\n",
    "print(\"Evaluation result on Test Data : Loss = {}, accuracy = {}\".format(test_loss, test_acc))"
   ]
  },
  {
   "cell_type": "markdown",
   "metadata": {},
   "source": [
    "The results look good. However, we would want to have another look at the results."
   ]
  },
  {
   "cell_type": "markdown",
   "metadata": {},
   "source": [
    "### 6. Check for Overfitting"
   ]
  },
  {
   "cell_type": "markdown",
   "metadata": {},
   "source": [
    "The fit() function returns a history object which has a dictionary of all the metrics which were required to be tracked during training. We can use the data in the history object to plot the loss and accuracy curves to check how the training process went.\n",
    "You can use the history.history.keys() function to check what metrics are present in the history. It should look like the following\n",
    "\n",
    "['acc', 'loss', 'val_acc', 'val_loss']\n",
    "\n",
    "Let us plot the loss and accuracy curves."
   ]
  },
  {
   "cell_type": "code",
   "execution_count": 21,
   "metadata": {},
   "outputs": [
    {
     "data": {
      "text/plain": [
       "Text(0.5,1,'Accuracy Curves')"
      ]
     },
     "execution_count": 21,
     "metadata": {},
     "output_type": "execute_result"
    },
    {
     "data": {
      "image/png": "[encoded data removed]",
      "text/plain": [
       "<matplotlib.figure.Figure at 0x7f643a47b4a8>"
      ]
     },
     "metadata": {},
     "output_type": "display_data"
    },
    {
     "data": {
      "image/png": "[encoded data removed]",
      "text/plain": [
       "<matplotlib.figure.Figure at 0x7f643a435128>"
      ]
     },
     "metadata": {},
     "output_type": "display_data"
    }
   ],
   "source": [
    "#Plot the Loss Curves\n",
    "plt.figure(figsize=[8,6])\n",
    "plt.plot(history.history['loss'],'r',linewidth=3.0)\n",
    "plt.plot(history.history['val_loss'],'b',linewidth=3.0)\n",
    "plt.legend(['Training loss', 'Validation Loss'],fontsize=18)\n",
    "plt.xlabel('Epochs ',fontsize=16)\n",
    "plt.ylabel('Loss',fontsize=16)\n",
    "plt.title('Loss Curves',fontsize=16)\n",
    " \n",
    "#Plot the Accuracy Curves\n",
    "plt.figure(figsize=[8,6])\n",
    "plt.plot(history.history['acc'],'r',linewidth=3.0)\n",
    "plt.plot(history.history['val_acc'],'b',linewidth=3.0)\n",
    "plt.legend(['Training Accuracy', 'Validation Accuracy'],fontsize=18)\n",
    "plt.xlabel('Epochs ',fontsize=16)\n",
    "plt.ylabel('Accuracy',fontsize=16)\n",
    "plt.title('Accuracy Curves',fontsize=16)"
   ]
  },
  {
   "cell_type": "markdown",
   "metadata": {},
   "source": [
    "Although the accuracy obtained above is very good, if you see the loss and accuracy curves in the above figures, you’ll notice that the validation loss initially decrease, but then it starts increasing gradually. Also, there is a substantial difference between the training and test accuracy. This is a clear sign of Overfitting which means that the network has memorized the training data very well, but is not guaranteed to work on unseen data. Thus, the difference in the training and test accuracy."
   ]
  },
  {
   "cell_type": "markdown",
   "metadata": {},
   "source": [
    "## 7. Add Regularization to the model"
   ]
  },
  {
   "cell_type": "markdown",
   "metadata": {},
   "source": [
    "Overfitting occurs mainly because the network parameters are getting too biased towards the training data. We can add a dropout layer to overcome this problem to a certain extent. In case of dropout, a fraction of neurons is randomly turned off during the training process, reducing the dependency on the training set by some amount."
   ]
  },
  {
   "cell_type": "code",
   "execution_count": 22,
   "metadata": {},
   "outputs": [],
   "source": [
    "from keras.layers import Dropout\n",
    " \n",
    "model_reg = Sequential()\n",
    "model_reg.add(Dense(512, activation='relu', input_shape=(dimData,)))\n",
    "model_reg.add(Dropout(0.5))\n",
    "model_reg.add(Dense(512, activation='relu'))\n",
    "model_reg.add(Dropout(0.5))\n",
    "model_reg.add(Dense(nClasses, activation='softmax'))"
   ]
  },
  {
   "cell_type": "markdown",
   "metadata": {},
   "source": [
    "## 8. Check performance after regularization"
   ]
  },
  {
   "cell_type": "markdown",
   "metadata": {},
   "source": [
    "We will train the network again in the same way we did earlier and check the loss and accuracy curves."
   ]
  },
  {
   "cell_type": "code",
   "execution_count": 23,
   "metadata": {},
   "outputs": [
    {
     "name": "stdout",
     "output_type": "stream",
     "text": [
      "Train on 60000 samples, validate on 10000 samples\n",
      "Epoch 1/20\n",
      "60000/60000 [==============================] - 15s 257us/step - loss: 0.3788 - acc: 0.8825 - val_loss: 0.1597 - val_acc: 0.9507\n",
      "Epoch 2/20\n",
      "60000/60000 [==============================] - 17s 278us/step - loss: 0.1666 - acc: 0.9501 - val_loss: 0.1152 - val_acc: 0.9664\n",
      "Epoch 3/20\n",
      "60000/60000 [==============================] - 16s 261us/step - loss: 0.1305 - acc: 0.9613 - val_loss: 0.0932 - val_acc: 0.9729\n",
      "Epoch 4/20\n",
      "60000/60000 [==============================] - 16s 260us/step - loss: 0.1084 - acc: 0.9677 - val_loss: 0.0830 - val_acc: 0.9762\n",
      "Epoch 5/20\n",
      "60000/60000 [==============================] - 15s 257us/step - loss: 0.0972 - acc: 0.9715 - val_loss: 0.0778 - val_acc: 0.9789\n",
      "Epoch 6/20\n",
      "60000/60000 [==============================] - 16s 268us/step - loss: 0.0857 - acc: 0.9748 - val_loss: 0.0761 - val_acc: 0.9796\n",
      "Epoch 7/20\n",
      "60000/60000 [==============================] - 16s 261us/step - loss: 0.0791 - acc: 0.9765 - val_loss: 0.0812 - val_acc: 0.9765\n",
      "Epoch 8/20\n",
      "60000/60000 [==============================] - 15s 248us/step - loss: 0.0737 - acc: 0.9780 - val_loss: 0.0782 - val_acc: 0.9799\n",
      "Epoch 9/20\n",
      "60000/60000 [==============================] - 15s 251us/step - loss: 0.0713 - acc: 0.9796 - val_loss: 0.0743 - val_acc: 0.9818\n",
      "Epoch 10/20\n",
      "60000/60000 [==============================] - 21s 351us/step - loss: 0.0659 - acc: 0.9810 - val_loss: 0.0690 - val_acc: 0.9824\n",
      "Epoch 11/20\n",
      "60000/60000 [==============================] - 14s 235us/step - loss: 0.0626 - acc: 0.9812 - val_loss: 0.0740 - val_acc: 0.9814\n",
      "Epoch 12/20\n",
      "60000/60000 [==============================] - 12s 203us/step - loss: 0.0604 - acc: 0.9831 - val_loss: 0.0746 - val_acc: 0.9834\n",
      "Epoch 13/20\n",
      "60000/60000 [==============================] - 19s 313us/step - loss: 0.0608 - acc: 0.9821 - val_loss: 0.0663 - val_acc: 0.9847\n",
      "Epoch 14/20\n",
      "60000/60000 [==============================] - 16s 266us/step - loss: 0.0559 - acc: 0.9835 - val_loss: 0.0716 - val_acc: 0.9841\n",
      "Epoch 15/20\n",
      "60000/60000 [==============================] - 18s 300us/step - loss: 0.0546 - acc: 0.9842 - val_loss: 0.0764 - val_acc: 0.9830\n",
      "Epoch 16/20\n",
      "60000/60000 [==============================] - 15s 254us/step - loss: 0.0535 - acc: 0.9853 - val_loss: 0.0861 - val_acc: 0.9824\n",
      "Epoch 17/20\n",
      "60000/60000 [==============================] - 17s 287us/step - loss: 0.0506 - acc: 0.9856 - val_loss: 0.0785 - val_acc: 0.9817\n",
      "Epoch 18/20\n",
      "60000/60000 [==============================] - 14s 238us/step - loss: 0.0491 - acc: 0.9860 - val_loss: 0.0780 - val_acc: 0.9832\n",
      "Epoch 19/20\n",
      "60000/60000 [==============================] - 17s 284us/step - loss: 0.0489 - acc: 0.9863 - val_loss: 0.0817 - val_acc: 0.9841\n",
      "Epoch 20/20\n",
      "60000/60000 [==============================] - 17s 275us/step - loss: 0.0491 - acc: 0.9862 - val_loss: 0.0826 - val_acc: 0.9839\n"
     ]
    },
    {
     "data": {
      "text/plain": [
       "Text(0.5,1,'Accuracy Curves')"
      ]
     },
     "execution_count": 23,
     "metadata": {},
     "output_type": "execute_result"
    },
    {
     "data": {
      "image/png": "[encoded data removed]",
      "text/plain": [
       "<matplotlib.figure.Figure at 0x7f6434397518>"
      ]
     },
     "metadata": {},
     "output_type": "display_data"
    },
    {
     "data": {
      "image/png": "[encoded data removed]",
      "text/plain": [
       "<matplotlib.figure.Figure at 0x7f6434364ef0>"
      ]
     },
     "metadata": {},
     "output_type": "display_data"
    }
   ],
   "source": [
    "model_reg.compile(optimizer='rmsprop', loss='categorical_crossentropy', metrics=['accuracy'])\n",
    "history_reg = model_reg.fit(train_data, train_labels_one_hot, batch_size=256, epochs=20, verbose=1, \n",
    "                            validation_data=(test_data, test_labels_one_hot))\n",
    " \n",
    "#Plot the Loss Curves\n",
    "plt.figure(figsize=[8,6])\n",
    "plt.plot(history_reg.history['loss'],'r',linewidth=3.0)\n",
    "plt.plot(history_reg.history['val_loss'],'b',linewidth=3.0)\n",
    "plt.legend(['Training loss', 'Validation Loss'],fontsize=18)\n",
    "plt.xlabel('Epochs ',fontsize=16)\n",
    "plt.ylabel('Loss',fontsize=16)\n",
    "plt.title('Loss Curves',fontsize=16)\n",
    " \n",
    "#Plot the Accuracy Curves\n",
    "plt.figure(figsize=[8,6])\n",
    "plt.plot(history_reg.history['acc'],'r',linewidth=3.0)\n",
    "plt.plot(history_reg.history['val_acc'],'b',linewidth=3.0)\n",
    "plt.legend(['Training Accuracy', 'Validation Accuracy'],fontsize=18)\n",
    "plt.xlabel('Epochs ',fontsize=16)\n",
    "plt.ylabel('Accuracy',fontsize=16)\n",
    "plt.title('Accuracy Curves',fontsize=16)"
   ]
  },
  {
   "cell_type": "markdown",
   "metadata": {},
   "source": [
    "From the above loss and accuracy curves, we can observe that\n",
    "\n",
    "* The validation loss is not increasing\n",
    "* The difference between the train and validation accuracy is not very high\n",
    "\n",
    "Thus, we can say that the model has better generalization capability as the performance does not decrease drastically in case of unseen data also."
   ]
  },
  {
   "cell_type": "markdown",
   "metadata": {},
   "source": [
    "## 9. Inference on a single image"
   ]
  },
  {
   "cell_type": "markdown",
   "metadata": {},
   "source": [
    "We have seen that the first image in the test set is the number 7. Let us see what the model predicts."
   ]
  },
  {
   "cell_type": "markdown",
   "metadata": {},
   "source": [
    "### 9.1. Getting the predicted class"
   ]
  },
  {
   "cell_type": "markdown",
   "metadata": {},
   "source": [
    "During the inference stage, it might be sufficient to know the class of the input data. It can be done as follows."
   ]
  },
  {
   "cell_type": "code",
   "execution_count": 24,
   "metadata": {},
   "outputs": [
    {
     "data": {
      "text/plain": [
       "array([7])"
      ]
     },
     "execution_count": 24,
     "metadata": {},
     "output_type": "execute_result"
    }
   ],
   "source": [
    "# Predict the most likely class\n",
    "model_reg.predict_classes(test_data[[0],:])"
   ]
  },
  {
   "cell_type": "markdown",
   "metadata": {},
   "source": [
    "### 9.2. Getting the probabilities"
   ]
  },
  {
   "cell_type": "markdown",
   "metadata": {},
   "source": [
    "In the above method there is no score which tells us about the confidence with which the model does the prediction. In some cases, for example when there are many classes, we may want the probabilities of the different classes which indicates how confident the model is about the occurence of a particular class. We can take the decision based on these scores."
   ]
  },
  {
   "cell_type": "code",
   "execution_count": 25,
   "metadata": {},
   "outputs": [
    {
     "data": {
      "text/plain": [
       "array([[  9.26685003e-24,   3.28617053e-17,   1.58227364e-14,\n",
       "          7.91421677e-15,   4.52182291e-22,   9.13194368e-19,\n",
       "          1.17213208e-31,   1.00000000e+00,   5.74379192e-22,\n",
       "          5.15477316e-15]], dtype=float32)"
      ]
     },
     "execution_count": 25,
     "metadata": {},
     "output_type": "execute_result"
    }
   ],
   "source": [
    "# Predict the probabilities for each class \n",
    "model_reg.predict(test_data[[0],:])"
   ]
  },
  {
   "cell_type": "markdown",
   "metadata": {},
   "source": [
    "This gives the probability score for each class. We can see that the score for the 8th index is almost 1 which indicates that the predicted class is 7 with a confidence score of 1."
   ]
  },
  {
   "cell_type": "markdown",
   "metadata": {},
   "source": [
    "## 10. Exercise"
   ]
  },
  {
   "cell_type": "markdown",
   "metadata": {},
   "source": [
    "We had used 2 hidden layers and relu activation. Try to change the number of hidden layer and the activation to tanh or sigmoid and see what happens. Also change the dropout ratio and check the performance.\n",
    "\n",
    "Although the performance is pretty impressive with this model, we will see how to improve it further using a Convolutional Neural Network in the next post. Stay tuned!"
   ]
  },
  {
   "cell_type": "code",
   "execution_count": null,
   "metadata": {},
   "outputs": [],
   "source": []
  }
 ],
 "metadata": {
  "kernelspec": {
   "display_name": "Python 3",
   "language": "python",
   "name": "python3"
  },
  "language_info": {
   "codemirror_mode": {
    "name": "ipython",
    "version": 3
   },
   "file_extension": ".py",
   "mimetype": "text/x-python",
   "name": "python",
   "nbconvert_exporter": "python",
   "pygments_lexer": "ipython3",
   "version": "3.5.2"
  }
 },
 "nbformat": 4,
 "nbformat_minor": 2
}
